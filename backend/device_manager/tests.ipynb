{
 "cells": [
  {
   "cell_type": "code",
   "execution_count": 4,
   "id": "63106aef-c0a1-4587-b81a-f666c7f8553f",
   "metadata": {},
   "outputs": [],
   "source": [
    "import os\n",
    "import json\n",
    "from datetime import datetime\n",
    "\n",
    "from azure.cosmos import CosmosClient, PartitionKey\n",
    "\n",
    "# </imports>\n",
    "\n",
    "# <environment_variables>\n",
    "ENDPOINT = os.environ[\"COSMOS_ENDPOINT\"]\n",
    "KEY = os.environ[\"COSMOS_KEY\"]\n",
    "# </environment_variables>\n",
    "\n",
    "# <constants>\n",
    "DATABASE_NAME = \"devices-db\"\n",
    "CONTAINER_NAME = \"devices\""
   ]
  },
  {
   "cell_type": "code",
   "execution_count": 14,
   "id": "0a2f4756-19e9-452f-b3e0-8d6e0cc06f2c",
   "metadata": {},
   "outputs": [
    {
     "data": {
      "text/plain": [
       "{'id': 'a101',\n",
       " 'battery': 94,\n",
       " 'last_update': '2023-12-30 16:36:52.078678',\n",
       " 'image_config': {'x': 325,\n",
       "  'y': 288,\n",
       "  'r': 150,\n",
       "  'r_check': 120,\n",
       "  'min_angle': 45,\n",
       "  'max_angle': 320,\n",
       "  'min_value': 0,\n",
       "  'max_value': 120},\n",
       " 'upload_times_per_day': '24',\n",
       " '_rid': 'yN5cAKfu5v8BAAAAAAAAAA==',\n",
       " '_self': 'dbs/yN5cAA==/colls/yN5cAKfu5v8=/docs/yN5cAKfu5v8BAAAAAAAAAA==/',\n",
       " '_etag': '\"670064ce-0000-0d00-0000-659039130000\"',\n",
       " '_attachments': 'attachments/',\n",
       " '_ts': 1703950611}"
      ]
     },
     "execution_count": 14,
     "metadata": {},
     "output_type": "execute_result"
    }
   ],
   "source": [
    "client = CosmosClient(url=ENDPOINT, credential=KEY)\n",
    "# </create_client>\n",
    "\n",
    "# <new_item> {\"gauges\":{\"t01\":{\"x\":325,\"y\":288,\"r\":150,\"r_check\":120,\"min_angle\":45,\"max_angle\":320,\"min_value\":0,\"max_value\":120}}}\n",
    "\n",
    "new_item = {\n",
    "    \"id\": \"a101\",\n",
    "    \"battery\": 94,\n",
    "    \"last_update\": str(datetime.now()),\n",
    "    \"image_config\": {\"x\":325,\"y\":288,\"r\":150,\"r_check\":120,\"min_angle\":45,\"max_angle\":320,\"min_value\":0,\"max_value\":120},\n",
    "    \"upload_times_per_day\": \"24\"\n",
    "}\n",
    "database = client.get_database_client(DATABASE_NAME)\n",
    "container = database.get_container_client(CONTAINER_NAME)\n",
    "\n",
    "container.upsert_item(new_item)\n"
   ]
  },
  {
   "cell_type": "code",
   "execution_count": 16,
   "id": "46821e6f-d277-41f0-9e98-6d7f2efb0c9c",
   "metadata": {},
   "outputs": [
    {
     "ename": "CosmosResourceNotFoundError",
     "evalue": "(NotFound) Entity with the specified id does not exist in the system. More info: https://aka.ms/cosmosdb-tsg-not-found, \r\nRequestStartTime: 2023-12-30T16:46:46.1498615Z, RequestEndTime: 2023-12-30T16:46:46.1727331Z,  Number of regions attempted:1\r\n{\"systemHistory\":[{\"dateUtc\":\"2023-12-30T16:45:49.4925414Z\",\"cpu\":0.325,\"memory\":413884368.000,\"threadInfo\":{\"isThreadStarving\":\"False\",\"threadWaitIntervalInMs\":0.0366,\"availableThreads\":32763,\"minThreads\":64,\"maxThreads\":32767},\"numberOfOpenTcpConnection\":598},{\"dateUtc\":\"2023-12-30T16:45:59.5017149Z\",\"cpu\":0.563,\"memory\":413872280.000,\"threadInfo\":{\"isThreadStarving\":\"False\",\"threadWaitIntervalInMs\":0.0649,\"availableThreads\":32764,\"minThreads\":64,\"maxThreads\":32767},\"numberOfOpenTcpConnection\":600},{\"dateUtc\":\"2023-12-30T16:46:09.5120860Z\",\"cpu\":0.334,\"memory\":413862424.000,\"threadInfo\":{\"isThreadStarving\":\"False\",\"threadWaitIntervalInMs\":0.0549,\"availableThreads\":32764,\"minThreads\":64,\"maxThreads\":32767},\"numberOfOpenTcpConnection\":598},{\"dateUtc\":\"2023-12-30T16:46:19.5214007Z\",\"cpu\":0.217,\"memory\":413860404.000,\"threadInfo\":{\"isThreadStarving\":\"False\",\"threadWaitIntervalInMs\":0.0334,\"availableThreads\":32763,\"minThreads\":64,\"maxThreads\":32767},\"numberOfOpenTcpConnection\":600},{\"dateUtc\":\"2023-12-30T16:46:29.5317476Z\",\"cpu\":0.542,\"memory\":413876156.000,\"threadInfo\":{\"isThreadStarving\":\"False\",\"threadWaitIntervalInMs\":0.0474,\"availableThreads\":32764,\"minThreads\":64,\"maxThreads\":32767},\"numberOfOpenTcpConnection\":602},{\"dateUtc\":\"2023-12-30T16:46:39.5415012Z\",\"cpu\":0.395,\"memory\":413879308.000,\"threadInfo\":{\"isThreadStarving\":\"False\",\"threadWaitIntervalInMs\":0.0563,\"availableThreads\":32761,\"minThreads\":64,\"maxThreads\":32767},\"numberOfOpenTcpConnection\":598}]}\r\nRequestStart: 2023-12-30T16:46:46.1510019Z; ResponseTime: 2023-12-30T16:46:46.1727331Z; StoreResult: StorePhysicalAddress: rntbd://cdb-ms-prod-westeurope1-be48.documents.azure.com:14351/apps/61379750-6f4c-4092-a3e9-116530c267c6/services/90bc0d66-d5ea-412c-b1e4-e9fbd7cd08b3/partitions/bc036ac3-afdb-43e3-8510-79598ca8308d/replicas/133484133101496652s/, LSN: 4, GlobalCommittedLsn: 3, PartitionKeyRangeId: 0, IsValid: True, StatusCode: 404, SubStatusCode: 0, RequestCharge: 1, ItemLSN: -1, SessionToken: -1#4, UsingLocalLSN: True, TransportException: null, BELatencyMs: 0.228, ActivityId: 06b18042-f649-4ef7-ae8b-7a670c08b53e, RetryAfterInMs: , ReplicaHealthStatuses: [(port: 14322 | status: Unknown | lkt: 12/30/2023 12:45:15 PM),(port: 14351 | status: Unknown | lkt: 12/30/2023 12:45:15 PM),(port: 14412 | status: Unknown | lkt: 12/30/2023 12:45:15 PM),(port: 14424 | status: Unknown | lkt: 12/30/2023 12:45:15 PM)], TransportRequestTimeline: {\"requestTimeline\":[{\"event\": \"Created\", \"startTimeUtc\": \"2023-12-30T16:46:46.1509439Z\", \"durationInMs\": 0.0139},{\"event\": \"ChannelAcquisitionStarted\", \"startTimeUtc\": \"2023-12-30T16:46:46.1509578Z\", \"durationInMs\": 20.0389},{\"event\": \"Pipelined\", \"startTimeUtc\": \"2023-12-30T16:46:46.1709967Z\", \"durationInMs\": 0.0761},{\"event\": \"Transit Time\", \"startTimeUtc\": \"2023-12-30T16:46:46.1710728Z\", \"durationInMs\": 1.5918},{\"event\": \"Received\", \"startTimeUtc\": \"2023-12-30T16:46:46.1726646Z\", \"durationInMs\": 0.064},{\"event\": \"Completed\", \"startTimeUtc\": \"2023-12-30T16:46:46.1727286Z\", \"durationInMs\": 0}],\"serviceEndpointStats\":{\"inflightRequests\":1,\"openConnections\":1},\"connectionStats\":{\"waitforConnectionInit\":\"True\",\"callsPendingReceive\":0,\"lastSendAttempt\":\"2023-12-30T16:46:46.1693557Z\",\"lastSend\":\"2023-12-30T16:46:46.1693863Z\",\"lastReceive\":\"2023-12-30T16:46:46.1706052Z\"},\"requestSizeInBytes\":541,\"responseMetadataSizeInBytes\":181,\"responseBodySizeInBytes\":87};\r\n ResourceType: Document, OperationType: Read\r\n, Microsoft.Azure.Documents.Common/2.14.0\nCode: NotFound\nMessage: Entity with the specified id does not exist in the system. More info: https://aka.ms/cosmosdb-tsg-not-found, \r\nRequestStartTime: 2023-12-30T16:46:46.1498615Z, RequestEndTime: 2023-12-30T16:46:46.1727331Z,  Number of regions attempted:1\r\n{\"systemHistory\":[{\"dateUtc\":\"2023-12-30T16:45:49.4925414Z\",\"cpu\":0.325,\"memory\":413884368.000,\"threadInfo\":{\"isThreadStarving\":\"False\",\"threadWaitIntervalInMs\":0.0366,\"availableThreads\":32763,\"minThreads\":64,\"maxThreads\":32767},\"numberOfOpenTcpConnection\":598},{\"dateUtc\":\"2023-12-30T16:45:59.5017149Z\",\"cpu\":0.563,\"memory\":413872280.000,\"threadInfo\":{\"isThreadStarving\":\"False\",\"threadWaitIntervalInMs\":0.0649,\"availableThreads\":32764,\"minThreads\":64,\"maxThreads\":32767},\"numberOfOpenTcpConnection\":600},{\"dateUtc\":\"2023-12-30T16:46:09.5120860Z\",\"cpu\":0.334,\"memory\":413862424.000,\"threadInfo\":{\"isThreadStarving\":\"False\",\"threadWaitIntervalInMs\":0.0549,\"availableThreads\":32764,\"minThreads\":64,\"maxThreads\":32767},\"numberOfOpenTcpConnection\":598},{\"dateUtc\":\"2023-12-30T16:46:19.5214007Z\",\"cpu\":0.217,\"memory\":413860404.000,\"threadInfo\":{\"isThreadStarving\":\"False\",\"threadWaitIntervalInMs\":0.0334,\"availableThreads\":32763,\"minThreads\":64,\"maxThreads\":32767},\"numberOfOpenTcpConnection\":600},{\"dateUtc\":\"2023-12-30T16:46:29.5317476Z\",\"cpu\":0.542,\"memory\":413876156.000,\"threadInfo\":{\"isThreadStarving\":\"False\",\"threadWaitIntervalInMs\":0.0474,\"availableThreads\":32764,\"minThreads\":64,\"maxThreads\":32767},\"numberOfOpenTcpConnection\":602},{\"dateUtc\":\"2023-12-30T16:46:39.5415012Z\",\"cpu\":0.395,\"memory\":413879308.000,\"threadInfo\":{\"isThreadStarving\":\"False\",\"threadWaitIntervalInMs\":0.0563,\"availableThreads\":32761,\"minThreads\":64,\"maxThreads\":32767},\"numberOfOpenTcpConnection\":598}]}\r\nRequestStart: 2023-12-30T16:46:46.1510019Z; ResponseTime: 2023-12-30T16:46:46.1727331Z; StoreResult: StorePhysicalAddress: rntbd://cdb-ms-prod-westeurope1-be48.documents.azure.com:14351/apps/61379750-6f4c-4092-a3e9-116530c267c6/services/90bc0d66-d5ea-412c-b1e4-e9fbd7cd08b3/partitions/bc036ac3-afdb-43e3-8510-79598ca8308d/replicas/133484133101496652s/, LSN: 4, GlobalCommittedLsn: 3, PartitionKeyRangeId: 0, IsValid: True, StatusCode: 404, SubStatusCode: 0, RequestCharge: 1, ItemLSN: -1, SessionToken: -1#4, UsingLocalLSN: True, TransportException: null, BELatencyMs: 0.228, ActivityId: 06b18042-f649-4ef7-ae8b-7a670c08b53e, RetryAfterInMs: , ReplicaHealthStatuses: [(port: 14322 | status: Unknown | lkt: 12/30/2023 12:45:15 PM),(port: 14351 | status: Unknown | lkt: 12/30/2023 12:45:15 PM),(port: 14412 | status: Unknown | lkt: 12/30/2023 12:45:15 PM),(port: 14424 | status: Unknown | lkt: 12/30/2023 12:45:15 PM)], TransportRequestTimeline: {\"requestTimeline\":[{\"event\": \"Created\", \"startTimeUtc\": \"2023-12-30T16:46:46.1509439Z\", \"durationInMs\": 0.0139},{\"event\": \"ChannelAcquisitionStarted\", \"startTimeUtc\": \"2023-12-30T16:46:46.1509578Z\", \"durationInMs\": 20.0389},{\"event\": \"Pipelined\", \"startTimeUtc\": \"2023-12-30T16:46:46.1709967Z\", \"durationInMs\": 0.0761},{\"event\": \"Transit Time\", \"startTimeUtc\": \"2023-12-30T16:46:46.1710728Z\", \"durationInMs\": 1.5918},{\"event\": \"Received\", \"startTimeUtc\": \"2023-12-30T16:46:46.1726646Z\", \"durationInMs\": 0.064},{\"event\": \"Completed\", \"startTimeUtc\": \"2023-12-30T16:46:46.1727286Z\", \"durationInMs\": 0}],\"serviceEndpointStats\":{\"inflightRequests\":1,\"openConnections\":1},\"connectionStats\":{\"waitforConnectionInit\":\"True\",\"callsPendingReceive\":0,\"lastSendAttempt\":\"2023-12-30T16:46:46.1693557Z\",\"lastSend\":\"2023-12-30T16:46:46.1693863Z\",\"lastReceive\":\"2023-12-30T16:46:46.1706052Z\"},\"requestSizeInBytes\":541,\"responseMetadataSizeInBytes\":181,\"responseBodySizeInBytes\":87};\r\n ResourceType: Document, OperationType: Read\r\n, Microsoft.Azure.Documents.Common/2.14.0",
     "output_type": "error",
     "traceback": [
      "\u001b[1;31m---------------------------------------------------------------------------\u001b[0m",
      "\u001b[1;31mCosmosResourceNotFoundError\u001b[0m               Traceback (most recent call last)",
      "Cell \u001b[1;32mIn[16], line 2\u001b[0m\n\u001b[0;32m      1\u001b[0m \u001b[38;5;66;03m# <read_item>\u001b[39;00m\n\u001b[1;32m----> 2\u001b[0m existing_item \u001b[38;5;241m=\u001b[39m \u001b[43mcontainer\u001b[49m\u001b[38;5;241;43m.\u001b[39;49m\u001b[43mread_item\u001b[49m\u001b[43m(\u001b[49m\n\u001b[0;32m      3\u001b[0m \u001b[43m    \u001b[49m\u001b[43mitem\u001b[49m\u001b[38;5;241;43m=\u001b[39;49m\u001b[38;5;124;43m\"\u001b[39;49m\u001b[38;5;124;43ma1021\u001b[39;49m\u001b[38;5;124;43m\"\u001b[39;49m\u001b[43m,\u001b[49m\u001b[43m \u001b[49m\u001b[43mpartition_key\u001b[49m\u001b[38;5;241;43m=\u001b[39;49m\u001b[38;5;124;43m\"\u001b[39;49m\u001b[38;5;124;43ma101\u001b[39;49m\u001b[38;5;124;43m\"\u001b[39;49m\u001b[43m)\u001b[49m\n\u001b[0;32m      5\u001b[0m \u001b[38;5;28mprint\u001b[39m(\u001b[38;5;124m\"\u001b[39m\u001b[38;5;124mBattery \u001b[39m\u001b[38;5;132;01m% r\u001b[39;00m\u001b[38;5;124mead\u001b[39m\u001b[38;5;130;01m\\t\u001b[39;00m\u001b[38;5;124m\"\u001b[39m, existing_item[\u001b[38;5;124m\"\u001b[39m\u001b[38;5;124mbattery\u001b[39m\u001b[38;5;124m\"\u001b[39m])\n",
      "File \u001b[1;32m~\\Code\\legacy-instruments-monitoring\\backend\\device_manager\\venv\\lib\\site-packages\\azure\\core\\tracing\\decorator.py:78\u001b[0m, in \u001b[0;36mdistributed_trace.<locals>.decorator.<locals>.wrapper_use_tracer\u001b[1;34m(*args, **kwargs)\u001b[0m\n\u001b[0;32m     76\u001b[0m span_impl_type \u001b[38;5;241m=\u001b[39m settings\u001b[38;5;241m.\u001b[39mtracing_implementation()\n\u001b[0;32m     77\u001b[0m \u001b[38;5;28;01mif\u001b[39;00m span_impl_type \u001b[38;5;129;01mis\u001b[39;00m \u001b[38;5;28;01mNone\u001b[39;00m:\n\u001b[1;32m---> 78\u001b[0m     \u001b[38;5;28;01mreturn\u001b[39;00m func(\u001b[38;5;241m*\u001b[39margs, \u001b[38;5;241m*\u001b[39m\u001b[38;5;241m*\u001b[39mkwargs)\n\u001b[0;32m     80\u001b[0m \u001b[38;5;66;03m# Merge span is parameter is set, but only if no explicit parent are passed\u001b[39;00m\n\u001b[0;32m     81\u001b[0m \u001b[38;5;28;01mif\u001b[39;00m merge_span \u001b[38;5;129;01mand\u001b[39;00m \u001b[38;5;129;01mnot\u001b[39;00m passed_in_parent:\n",
      "File \u001b[1;32m~\\Code\\legacy-instruments-monitoring\\backend\\device_manager\\venv\\lib\\site-packages\\azure\\cosmos\\container.py:225\u001b[0m, in \u001b[0;36mContainerProxy.read_item\u001b[1;34m(self, item, partition_key, populate_query_metrics, post_trigger_include, **kwargs)\u001b[0m\n\u001b[0;32m    222\u001b[0m     validate_cache_staleness_value(max_integrated_cache_staleness_in_ms)\n\u001b[0;32m    223\u001b[0m     request_options[\u001b[38;5;124m\"\u001b[39m\u001b[38;5;124mmaxIntegratedCacheStaleness\u001b[39m\u001b[38;5;124m\"\u001b[39m] \u001b[38;5;241m=\u001b[39m max_integrated_cache_staleness_in_ms\n\u001b[1;32m--> 225\u001b[0m result \u001b[38;5;241m=\u001b[39m \u001b[38;5;28mself\u001b[39m\u001b[38;5;241m.\u001b[39mclient_connection\u001b[38;5;241m.\u001b[39mReadItem(document_link\u001b[38;5;241m=\u001b[39mdoc_link, options\u001b[38;5;241m=\u001b[39mrequest_options, \u001b[38;5;241m*\u001b[39m\u001b[38;5;241m*\u001b[39mkwargs)\n\u001b[0;32m    226\u001b[0m \u001b[38;5;28;01mif\u001b[39;00m response_hook:\n\u001b[0;32m    227\u001b[0m     response_hook(\u001b[38;5;28mself\u001b[39m\u001b[38;5;241m.\u001b[39mclient_connection\u001b[38;5;241m.\u001b[39mlast_response_headers, result)\n",
      "File \u001b[1;32m~\\Code\\legacy-instruments-monitoring\\backend\\device_manager\\venv\\lib\\site-packages\\azure\\cosmos\\_cosmos_client_connection.py:1222\u001b[0m, in \u001b[0;36mCosmosClientConnection.ReadItem\u001b[1;34m(self, document_link, options, **kwargs)\u001b[0m\n\u001b[0;32m   1220\u001b[0m path \u001b[38;5;241m=\u001b[39m base\u001b[38;5;241m.\u001b[39mGetPathFromLink(document_link)\n\u001b[0;32m   1221\u001b[0m document_id \u001b[38;5;241m=\u001b[39m base\u001b[38;5;241m.\u001b[39mGetResourceIdOrFullNameFromLink(document_link)\n\u001b[1;32m-> 1222\u001b[0m \u001b[38;5;28;01mreturn\u001b[39;00m \u001b[38;5;28mself\u001b[39m\u001b[38;5;241m.\u001b[39mRead(path, \u001b[38;5;124m\"\u001b[39m\u001b[38;5;124mdocs\u001b[39m\u001b[38;5;124m\"\u001b[39m, document_id, \u001b[38;5;28;01mNone\u001b[39;00m, options, \u001b[38;5;241m*\u001b[39m\u001b[38;5;241m*\u001b[39mkwargs)\n",
      "File \u001b[1;32m~\\Code\\legacy-instruments-monitoring\\backend\\device_manager\\venv\\lib\\site-packages\\azure\\cosmos\\_cosmos_client_connection.py:2268\u001b[0m, in \u001b[0;36mCosmosClientConnection.Read\u001b[1;34m(self, path, typ, id, initial_headers, options, **kwargs)\u001b[0m\n\u001b[0;32m   2266\u001b[0m \u001b[38;5;66;03m# Read will use ReadEndpoint since it uses GET operation\u001b[39;00m\n\u001b[0;32m   2267\u001b[0m request_params \u001b[38;5;241m=\u001b[39m _request_object\u001b[38;5;241m.\u001b[39mRequestObject(typ, documents\u001b[38;5;241m.\u001b[39m_OperationType\u001b[38;5;241m.\u001b[39mRead)\n\u001b[1;32m-> 2268\u001b[0m result, \u001b[38;5;28mself\u001b[39m\u001b[38;5;241m.\u001b[39mlast_response_headers \u001b[38;5;241m=\u001b[39m \u001b[38;5;28mself\u001b[39m\u001b[38;5;241m.\u001b[39m__Get(path, request_params, headers, \u001b[38;5;241m*\u001b[39m\u001b[38;5;241m*\u001b[39mkwargs)\n\u001b[0;32m   2269\u001b[0m \u001b[38;5;28;01mreturn\u001b[39;00m result\n",
      "File \u001b[1;32m~\\Code\\legacy-instruments-monitoring\\backend\\device_manager\\venv\\lib\\site-packages\\azure\\cosmos\\_cosmos_client_connection.py:2316\u001b[0m, in \u001b[0;36mCosmosClientConnection.__Get\u001b[1;34m(self, path, request_params, req_headers, **kwargs)\u001b[0m\n\u001b[0;32m   2303\u001b[0m \u001b[38;5;250m\u001b[39m\u001b[38;5;124;03m\"\"\"Azure Cosmos 'GET' http request.\u001b[39;00m\n\u001b[0;32m   2304\u001b[0m \n\u001b[0;32m   2305\u001b[0m \u001b[38;5;124;03m:params str url:\u001b[39;00m\n\u001b[1;32m   (...)\u001b[0m\n\u001b[0;32m   2313\u001b[0m \n\u001b[0;32m   2314\u001b[0m \u001b[38;5;124;03m\"\"\"\u001b[39;00m\n\u001b[0;32m   2315\u001b[0m request \u001b[38;5;241m=\u001b[39m \u001b[38;5;28mself\u001b[39m\u001b[38;5;241m.\u001b[39mpipeline_client\u001b[38;5;241m.\u001b[39mget(url\u001b[38;5;241m=\u001b[39mpath, headers\u001b[38;5;241m=\u001b[39mreq_headers)\n\u001b[1;32m-> 2316\u001b[0m \u001b[38;5;28;01mreturn\u001b[39;00m synchronized_request\u001b[38;5;241m.\u001b[39mSynchronizedRequest(\n\u001b[0;32m   2317\u001b[0m     client\u001b[38;5;241m=\u001b[39m\u001b[38;5;28mself\u001b[39m,\n\u001b[0;32m   2318\u001b[0m     request_params\u001b[38;5;241m=\u001b[39mrequest_params,\n\u001b[0;32m   2319\u001b[0m     global_endpoint_manager\u001b[38;5;241m=\u001b[39m\u001b[38;5;28mself\u001b[39m\u001b[38;5;241m.\u001b[39m_global_endpoint_manager,\n\u001b[0;32m   2320\u001b[0m     connection_policy\u001b[38;5;241m=\u001b[39m\u001b[38;5;28mself\u001b[39m\u001b[38;5;241m.\u001b[39mconnection_policy,\n\u001b[0;32m   2321\u001b[0m     pipeline_client\u001b[38;5;241m=\u001b[39m\u001b[38;5;28mself\u001b[39m\u001b[38;5;241m.\u001b[39mpipeline_client,\n\u001b[0;32m   2322\u001b[0m     request\u001b[38;5;241m=\u001b[39mrequest,\n\u001b[0;32m   2323\u001b[0m     request_data\u001b[38;5;241m=\u001b[39m\u001b[38;5;28;01mNone\u001b[39;00m,\n\u001b[0;32m   2324\u001b[0m     \u001b[38;5;241m*\u001b[39m\u001b[38;5;241m*\u001b[39mkwargs\n\u001b[0;32m   2325\u001b[0m )\n",
      "File \u001b[1;32m~\\Code\\legacy-instruments-monitoring\\backend\\device_manager\\venv\\lib\\site-packages\\azure\\cosmos\\_synchronized_request.py:206\u001b[0m, in \u001b[0;36mSynchronizedRequest\u001b[1;34m(client, request_params, global_endpoint_manager, connection_policy, pipeline_client, request, request_data, **kwargs)\u001b[0m\n\u001b[0;32m    203\u001b[0m     request\u001b[38;5;241m.\u001b[39mheaders[http_constants\u001b[38;5;241m.\u001b[39mHttpHeaders\u001b[38;5;241m.\u001b[39mContentLength] \u001b[38;5;241m=\u001b[39m \u001b[38;5;241m0\u001b[39m\n\u001b[0;32m    205\u001b[0m \u001b[38;5;66;03m# Pass _Request function with it's parameters to retry_utility's Execute method that wraps the call with retries\u001b[39;00m\n\u001b[1;32m--> 206\u001b[0m \u001b[38;5;28;01mreturn\u001b[39;00m _retry_utility\u001b[38;5;241m.\u001b[39mExecute(\n\u001b[0;32m    207\u001b[0m     client,\n\u001b[0;32m    208\u001b[0m     global_endpoint_manager,\n\u001b[0;32m    209\u001b[0m     _Request,\n\u001b[0;32m    210\u001b[0m     request_params,\n\u001b[0;32m    211\u001b[0m     connection_policy,\n\u001b[0;32m    212\u001b[0m     pipeline_client,\n\u001b[0;32m    213\u001b[0m     request,\n\u001b[0;32m    214\u001b[0m     \u001b[38;5;241m*\u001b[39m\u001b[38;5;241m*\u001b[39mkwargs\n\u001b[0;32m    215\u001b[0m )\n",
      "File \u001b[1;32m~\\Code\\legacy-instruments-monitoring\\backend\\device_manager\\venv\\lib\\site-packages\\azure\\cosmos\\_retry_utility.py:83\u001b[0m, in \u001b[0;36mExecute\u001b[1;34m(client, global_endpoint_manager, function, *args, **kwargs)\u001b[0m\n\u001b[0;32m     81\u001b[0m start_time \u001b[38;5;241m=\u001b[39m time\u001b[38;5;241m.\u001b[39mtime()\n\u001b[0;32m     82\u001b[0m \u001b[38;5;28;01mif\u001b[39;00m args:\n\u001b[1;32m---> 83\u001b[0m     result \u001b[38;5;241m=\u001b[39m ExecuteFunction(function, global_endpoint_manager, \u001b[38;5;241m*\u001b[39margs, \u001b[38;5;241m*\u001b[39m\u001b[38;5;241m*\u001b[39mkwargs)\n\u001b[0;32m     84\u001b[0m \u001b[38;5;28;01melse\u001b[39;00m:\n\u001b[0;32m     85\u001b[0m     result \u001b[38;5;241m=\u001b[39m ExecuteFunction(function, \u001b[38;5;241m*\u001b[39margs, \u001b[38;5;241m*\u001b[39m\u001b[38;5;241m*\u001b[39mkwargs)\n",
      "File \u001b[1;32m~\\Code\\legacy-instruments-monitoring\\backend\\device_manager\\venv\\lib\\site-packages\\azure\\cosmos\\_retry_utility.py:143\u001b[0m, in \u001b[0;36mExecuteFunction\u001b[1;34m(function, *args, **kwargs)\u001b[0m\n\u001b[0;32m    140\u001b[0m \u001b[38;5;28;01mdef\u001b[39;00m \u001b[38;5;21mExecuteFunction\u001b[39m(function, \u001b[38;5;241m*\u001b[39margs, \u001b[38;5;241m*\u001b[39m\u001b[38;5;241m*\u001b[39mkwargs):\n\u001b[0;32m    141\u001b[0m \u001b[38;5;250m    \u001b[39m\u001b[38;5;124;03m\"\"\"Stub method so that it can be used for mocking purposes as well.\u001b[39;00m\n\u001b[0;32m    142\u001b[0m \u001b[38;5;124;03m    \"\"\"\u001b[39;00m\n\u001b[1;32m--> 143\u001b[0m     \u001b[38;5;28;01mreturn\u001b[39;00m function(\u001b[38;5;241m*\u001b[39margs, \u001b[38;5;241m*\u001b[39m\u001b[38;5;241m*\u001b[39mkwargs)\n",
      "File \u001b[1;32m~\\Code\\legacy-instruments-monitoring\\backend\\device_manager\\venv\\lib\\site-packages\\azure\\cosmos\\_synchronized_request.py:148\u001b[0m, in \u001b[0;36m_Request\u001b[1;34m(global_endpoint_manager, request_params, connection_policy, pipeline_client, request, **kwargs)\u001b[0m\n\u001b[0;32m    145\u001b[0m     data \u001b[38;5;241m=\u001b[39m data\u001b[38;5;241m.\u001b[39mdecode(\u001b[38;5;124m\"\u001b[39m\u001b[38;5;124mutf-8\u001b[39m\u001b[38;5;124m\"\u001b[39m)\n\u001b[0;32m    147\u001b[0m \u001b[38;5;28;01mif\u001b[39;00m response\u001b[38;5;241m.\u001b[39mstatus_code \u001b[38;5;241m==\u001b[39m \u001b[38;5;241m404\u001b[39m:\n\u001b[1;32m--> 148\u001b[0m     \u001b[38;5;28;01mraise\u001b[39;00m exceptions\u001b[38;5;241m.\u001b[39mCosmosResourceNotFoundError(message\u001b[38;5;241m=\u001b[39mdata, response\u001b[38;5;241m=\u001b[39mresponse)\n\u001b[0;32m    149\u001b[0m \u001b[38;5;28;01mif\u001b[39;00m response\u001b[38;5;241m.\u001b[39mstatus_code \u001b[38;5;241m==\u001b[39m \u001b[38;5;241m409\u001b[39m:\n\u001b[0;32m    150\u001b[0m     \u001b[38;5;28;01mraise\u001b[39;00m exceptions\u001b[38;5;241m.\u001b[39mCosmosResourceExistsError(message\u001b[38;5;241m=\u001b[39mdata, response\u001b[38;5;241m=\u001b[39mresponse)\n",
      "\u001b[1;31mCosmosResourceNotFoundError\u001b[0m: (NotFound) Entity with the specified id does not exist in the system. More info: https://aka.ms/cosmosdb-tsg-not-found, \r\nRequestStartTime: 2023-12-30T16:46:46.1498615Z, RequestEndTime: 2023-12-30T16:46:46.1727331Z,  Number of regions attempted:1\r\n{\"systemHistory\":[{\"dateUtc\":\"2023-12-30T16:45:49.4925414Z\",\"cpu\":0.325,\"memory\":413884368.000,\"threadInfo\":{\"isThreadStarving\":\"False\",\"threadWaitIntervalInMs\":0.0366,\"availableThreads\":32763,\"minThreads\":64,\"maxThreads\":32767},\"numberOfOpenTcpConnection\":598},{\"dateUtc\":\"2023-12-30T16:45:59.5017149Z\",\"cpu\":0.563,\"memory\":413872280.000,\"threadInfo\":{\"isThreadStarving\":\"False\",\"threadWaitIntervalInMs\":0.0649,\"availableThreads\":32764,\"minThreads\":64,\"maxThreads\":32767},\"numberOfOpenTcpConnection\":600},{\"dateUtc\":\"2023-12-30T16:46:09.5120860Z\",\"cpu\":0.334,\"memory\":413862424.000,\"threadInfo\":{\"isThreadStarving\":\"False\",\"threadWaitIntervalInMs\":0.0549,\"availableThreads\":32764,\"minThreads\":64,\"maxThreads\":32767},\"numberOfOpenTcpConnection\":598},{\"dateUtc\":\"2023-12-30T16:46:19.5214007Z\",\"cpu\":0.217,\"memory\":413860404.000,\"threadInfo\":{\"isThreadStarving\":\"False\",\"threadWaitIntervalInMs\":0.0334,\"availableThreads\":32763,\"minThreads\":64,\"maxThreads\":32767},\"numberOfOpenTcpConnection\":600},{\"dateUtc\":\"2023-12-30T16:46:29.5317476Z\",\"cpu\":0.542,\"memory\":413876156.000,\"threadInfo\":{\"isThreadStarving\":\"False\",\"threadWaitIntervalInMs\":0.0474,\"availableThreads\":32764,\"minThreads\":64,\"maxThreads\":32767},\"numberOfOpenTcpConnection\":602},{\"dateUtc\":\"2023-12-30T16:46:39.5415012Z\",\"cpu\":0.395,\"memory\":413879308.000,\"threadInfo\":{\"isThreadStarving\":\"False\",\"threadWaitIntervalInMs\":0.0563,\"availableThreads\":32761,\"minThreads\":64,\"maxThreads\":32767},\"numberOfOpenTcpConnection\":598}]}\r\nRequestStart: 2023-12-30T16:46:46.1510019Z; ResponseTime: 2023-12-30T16:46:46.1727331Z; StoreResult: StorePhysicalAddress: rntbd://cdb-ms-prod-westeurope1-be48.documents.azure.com:14351/apps/61379750-6f4c-4092-a3e9-116530c267c6/services/90bc0d66-d5ea-412c-b1e4-e9fbd7cd08b3/partitions/bc036ac3-afdb-43e3-8510-79598ca8308d/replicas/133484133101496652s/, LSN: 4, GlobalCommittedLsn: 3, PartitionKeyRangeId: 0, IsValid: True, StatusCode: 404, SubStatusCode: 0, RequestCharge: 1, ItemLSN: -1, SessionToken: -1#4, UsingLocalLSN: True, TransportException: null, BELatencyMs: 0.228, ActivityId: 06b18042-f649-4ef7-ae8b-7a670c08b53e, RetryAfterInMs: , ReplicaHealthStatuses: [(port: 14322 | status: Unknown | lkt: 12/30/2023 12:45:15 PM),(port: 14351 | status: Unknown | lkt: 12/30/2023 12:45:15 PM),(port: 14412 | status: Unknown | lkt: 12/30/2023 12:45:15 PM),(port: 14424 | status: Unknown | lkt: 12/30/2023 12:45:15 PM)], TransportRequestTimeline: {\"requestTimeline\":[{\"event\": \"Created\", \"startTimeUtc\": \"2023-12-30T16:46:46.1509439Z\", \"durationInMs\": 0.0139},{\"event\": \"ChannelAcquisitionStarted\", \"startTimeUtc\": \"2023-12-30T16:46:46.1509578Z\", \"durationInMs\": 20.0389},{\"event\": \"Pipelined\", \"startTimeUtc\": \"2023-12-30T16:46:46.1709967Z\", \"durationInMs\": 0.0761},{\"event\": \"Transit Time\", \"startTimeUtc\": \"2023-12-30T16:46:46.1710728Z\", \"durationInMs\": 1.5918},{\"event\": \"Received\", \"startTimeUtc\": \"2023-12-30T16:46:46.1726646Z\", \"durationInMs\": 0.064},{\"event\": \"Completed\", \"startTimeUtc\": \"2023-12-30T16:46:46.1727286Z\", \"durationInMs\": 0}],\"serviceEndpointStats\":{\"inflightRequests\":1,\"openConnections\":1},\"connectionStats\":{\"waitforConnectionInit\":\"True\",\"callsPendingReceive\":0,\"lastSendAttempt\":\"2023-12-30T16:46:46.1693557Z\",\"lastSend\":\"2023-12-30T16:46:46.1693863Z\",\"lastReceive\":\"2023-12-30T16:46:46.1706052Z\"},\"requestSizeInBytes\":541,\"responseMetadataSizeInBytes\":181,\"responseBodySizeInBytes\":87};\r\n ResourceType: Document, OperationType: Read\r\n, Microsoft.Azure.Documents.Common/2.14.0\nCode: NotFound\nMessage: Entity with the specified id does not exist in the system. More info: https://aka.ms/cosmosdb-tsg-not-found, \r\nRequestStartTime: 2023-12-30T16:46:46.1498615Z, RequestEndTime: 2023-12-30T16:46:46.1727331Z,  Number of regions attempted:1\r\n{\"systemHistory\":[{\"dateUtc\":\"2023-12-30T16:45:49.4925414Z\",\"cpu\":0.325,\"memory\":413884368.000,\"threadInfo\":{\"isThreadStarving\":\"False\",\"threadWaitIntervalInMs\":0.0366,\"availableThreads\":32763,\"minThreads\":64,\"maxThreads\":32767},\"numberOfOpenTcpConnection\":598},{\"dateUtc\":\"2023-12-30T16:45:59.5017149Z\",\"cpu\":0.563,\"memory\":413872280.000,\"threadInfo\":{\"isThreadStarving\":\"False\",\"threadWaitIntervalInMs\":0.0649,\"availableThreads\":32764,\"minThreads\":64,\"maxThreads\":32767},\"numberOfOpenTcpConnection\":600},{\"dateUtc\":\"2023-12-30T16:46:09.5120860Z\",\"cpu\":0.334,\"memory\":413862424.000,\"threadInfo\":{\"isThreadStarving\":\"False\",\"threadWaitIntervalInMs\":0.0549,\"availableThreads\":32764,\"minThreads\":64,\"maxThreads\":32767},\"numberOfOpenTcpConnection\":598},{\"dateUtc\":\"2023-12-30T16:46:19.5214007Z\",\"cpu\":0.217,\"memory\":413860404.000,\"threadInfo\":{\"isThreadStarving\":\"False\",\"threadWaitIntervalInMs\":0.0334,\"availableThreads\":32763,\"minThreads\":64,\"maxThreads\":32767},\"numberOfOpenTcpConnection\":600},{\"dateUtc\":\"2023-12-30T16:46:29.5317476Z\",\"cpu\":0.542,\"memory\":413876156.000,\"threadInfo\":{\"isThreadStarving\":\"False\",\"threadWaitIntervalInMs\":0.0474,\"availableThreads\":32764,\"minThreads\":64,\"maxThreads\":32767},\"numberOfOpenTcpConnection\":602},{\"dateUtc\":\"2023-12-30T16:46:39.5415012Z\",\"cpu\":0.395,\"memory\":413879308.000,\"threadInfo\":{\"isThreadStarving\":\"False\",\"threadWaitIntervalInMs\":0.0563,\"availableThreads\":32761,\"minThreads\":64,\"maxThreads\":32767},\"numberOfOpenTcpConnection\":598}]}\r\nRequestStart: 2023-12-30T16:46:46.1510019Z; ResponseTime: 2023-12-30T16:46:46.1727331Z; StoreResult: StorePhysicalAddress: rntbd://cdb-ms-prod-westeurope1-be48.documents.azure.com:14351/apps/61379750-6f4c-4092-a3e9-116530c267c6/services/90bc0d66-d5ea-412c-b1e4-e9fbd7cd08b3/partitions/bc036ac3-afdb-43e3-8510-79598ca8308d/replicas/133484133101496652s/, LSN: 4, GlobalCommittedLsn: 3, PartitionKeyRangeId: 0, IsValid: True, StatusCode: 404, SubStatusCode: 0, RequestCharge: 1, ItemLSN: -1, SessionToken: -1#4, UsingLocalLSN: True, TransportException: null, BELatencyMs: 0.228, ActivityId: 06b18042-f649-4ef7-ae8b-7a670c08b53e, RetryAfterInMs: , ReplicaHealthStatuses: [(port: 14322 | status: Unknown | lkt: 12/30/2023 12:45:15 PM),(port: 14351 | status: Unknown | lkt: 12/30/2023 12:45:15 PM),(port: 14412 | status: Unknown | lkt: 12/30/2023 12:45:15 PM),(port: 14424 | status: Unknown | lkt: 12/30/2023 12:45:15 PM)], TransportRequestTimeline: {\"requestTimeline\":[{\"event\": \"Created\", \"startTimeUtc\": \"2023-12-30T16:46:46.1509439Z\", \"durationInMs\": 0.0139},{\"event\": \"ChannelAcquisitionStarted\", \"startTimeUtc\": \"2023-12-30T16:46:46.1509578Z\", \"durationInMs\": 20.0389},{\"event\": \"Pipelined\", \"startTimeUtc\": \"2023-12-30T16:46:46.1709967Z\", \"durationInMs\": 0.0761},{\"event\": \"Transit Time\", \"startTimeUtc\": \"2023-12-30T16:46:46.1710728Z\", \"durationInMs\": 1.5918},{\"event\": \"Received\", \"startTimeUtc\": \"2023-12-30T16:46:46.1726646Z\", \"durationInMs\": 0.064},{\"event\": \"Completed\", \"startTimeUtc\": \"2023-12-30T16:46:46.1727286Z\", \"durationInMs\": 0}],\"serviceEndpointStats\":{\"inflightRequests\":1,\"openConnections\":1},\"connectionStats\":{\"waitforConnectionInit\":\"True\",\"callsPendingReceive\":0,\"lastSendAttempt\":\"2023-12-30T16:46:46.1693557Z\",\"lastSend\":\"2023-12-30T16:46:46.1693863Z\",\"lastReceive\":\"2023-12-30T16:46:46.1706052Z\"},\"requestSizeInBytes\":541,\"responseMetadataSizeInBytes\":181,\"responseBodySizeInBytes\":87};\r\n ResourceType: Document, OperationType: Read\r\n, Microsoft.Azure.Documents.Common/2.14.0"
     ]
    }
   ],
   "source": [
    "# <read_item>\n",
    "existing_item = container.read_item(\n",
    "    item=\"a1021\", partition_key=\"a101\")\n",
    "\n",
    "print(\"Battery % read\\t\", existing_item[\"battery\"])"
   ]
  },
  {
   "cell_type": "code",
   "execution_count": null,
   "id": "83cd7a4c-2a61-4e70-aec6-7e1738cf1cc4",
   "metadata": {},
   "outputs": [],
   "source": [
    "\n"
   ]
  },
  {
   "cell_type": "code",
   "execution_count": null,
   "id": "8a42bede-005f-430f-8735-829f690d650b",
   "metadata": {},
   "outputs": [],
   "source": []
  },
  {
   "cell_type": "code",
   "execution_count": 98,
   "id": "6e07b322-23df-4c86-ab55-1d842b9de535",
   "metadata": {},
   "outputs": [
    {
     "data": {
      "text/plain": [
       "UUID('deff67e3-001c-321d-8b31-c5dd744e578f')"
      ]
     },
     "execution_count": 98,
     "metadata": {},
     "output_type": "execute_result"
    }
   ],
   "source": [
    "#import shortuuid\n",
    "import uuid\n",
    "from datetime import datetime\n",
    "\n",
    "\n",
    "uuid.uuid3(uuid.NAMESPACE_DNS, str(datetime.now()))"
   ]
  }
 ],
 "metadata": {
  "kernelspec": {
   "display_name": "Python 3 (ipykernel)",
   "language": "python",
   "name": "python3"
  },
  "language_info": {
   "codemirror_mode": {
    "name": "ipython",
    "version": 3
   },
   "file_extension": ".py",
   "mimetype": "text/x-python",
   "name": "python",
   "nbconvert_exporter": "python",
   "pygments_lexer": "ipython3",
   "version": "3.10.11"
  }
 },
 "nbformat": 4,
 "nbformat_minor": 5
}
